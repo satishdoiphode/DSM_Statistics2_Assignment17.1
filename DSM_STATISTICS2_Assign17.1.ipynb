{
 "cells": [
  {
   "cell_type": "code",
   "execution_count": 13,
   "metadata": {},
   "outputs": [
    {
     "data": {
      "text/plain": [
       "3.4264958230778575e-06"
      ]
     },
     "execution_count": 13,
     "metadata": {},
     "output_type": "execute_result"
    }
   ],
   "source": [
    "#A test is conducted which is consisting of 20 MCQs (multiple choices questions) with every MCQ having its four options out of which only one is correct. Determine the\n",
    "#probability that a person undertaking that test has answered exactly 5 questions wrong.\n",
    "n = 20 # Test having 20MCQ\n",
    "k = 15\n",
    "n-k\n",
    "# Here the probability of success = probability of giving a right answer = s = 1 / 4\n",
    "# Hence, the probability of failure = probability of giving a wrong answer = 1 - s \n",
    "#= 1 - 1 / 4 = 3 / 4\n",
    "s =1/4\n",
    "wr = \"probability of giving a wrong answer\"\n",
    "wr = 1-s\n",
    "wr = 1- (1/4)\n",
    "wr\n",
    "# substitute these values in the formula for Binomial distribution we get,\n",
    "# When we substitute these values in the formula for Binomial distribution we get,\n",
    "#So, P (exactly 5 out of 20 answers incorrect) = C (20, 5) * (1/4)^ 15 * (3/4)^ 5\n",
    "#→\tP (5 out of 20) = (20∗19∗18∗17∗16)/(5∗4∗3∗2∗1) * (1/4)^ 15 * (3/4)^ 5\n",
    "p = (20*19*18*17*16)/(5*4*3*2*1)*((1/4)**15)*((3/4)**5)\n",
    "p\n"
   ]
  },
  {
   "cell_type": "code",
   "execution_count": 2,
   "metadata": {},
   "outputs": [],
   "source": [
    "import numpy as np\n",
    "import matplotlib.pyplot as plt\n",
    "from scipy.stats import binom"
   ]
  },
  {
   "cell_type": "code",
   "execution_count": 4,
   "metadata": {},
   "outputs": [
    {
     "data": {
      "text/plain": [
       "3.4264958230778435e-06"
      ]
     },
     "execution_count": 4,
     "metadata": {},
     "output_type": "execute_result"
    }
   ],
   "source": [
    "binom.pmf(15, 20, 0.25)"
   ]
  },
  {
   "cell_type": "code",
   "execution_count": null,
   "metadata": {},
   "outputs": [],
   "source": []
  }
 ],
 "metadata": {
  "kernelspec": {
   "display_name": "Python 3",
   "language": "python",
   "name": "python3"
  },
  "language_info": {
   "codemirror_mode": {
    "name": "ipython",
    "version": 3
   },
   "file_extension": ".py",
   "mimetype": "text/x-python",
   "name": "python",
   "nbconvert_exporter": "python",
   "pygments_lexer": "ipython3",
   "version": "3.6.5"
  }
 },
 "nbformat": 4,
 "nbformat_minor": 2
}
